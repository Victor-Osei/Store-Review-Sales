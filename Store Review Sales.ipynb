{
 "cells": [
  {
   "cell_type": "markdown",
   "id": "83acaae1-977d-4f9e-9875-b70a1c8e914c",
   "metadata": {},
   "source": [
    "# STORE SALES REVIEW PROJECT"
   ]
  },
  {
   "cell_type": "markdown",
   "id": "e1f5c946-dccd-4f10-9861-e1b53aa68316",
   "metadata": {},
   "source": [
    "This program runs the following analysis on data from Azubi store.\n",
    " 1. Calculate the total price average for all products\n",
    " 2. Create a new price list that reduces the old price list by GHC 5.00\n",
    " 3. Calculate the total revenue generated from the products\n",
    " 4. Calculate the average daily revenue generated from the products\n",
    " 5. Based on the new prices which products are less than GHC 30.00"
   ]
  },
  {
   "cell_type": "code",
   "execution_count": 48,
   "id": "40c719d0-294f-4438-ac69-84a395229682",
   "metadata": {},
   "outputs": [
    {
     "name": "stdout",
     "output_type": "stream",
     "text": [
      "The total price average for all products is: GHC 33.33\n",
      "The new price list is:\n",
      "['GHC 25.00', 'GHC 20.00', 'GHC 35.00', 'GHC 15.00', 'GHC 15.00', 'GHC 30.00', 'GHC 40.00', 'GHC 45.00', 'GHC 30.00']\n",
      "The total revenue generated from the products is: GHC 1400.00\n",
      "The average daily revenue generated from the products within a week is: GHC 200.00\n",
      "The products less than GHC 30 based on new price list are:\n",
      "[('Sankofa Foods', 'GHC 25.00'), ('Jamestown Coffee', 'GHC 20.00'), ('Blue Skies Ice Cream', 'GHC 15.00'), ('Fair Afric Chocolate', 'GHC 15.00')]\n"
     ]
    }
   ],
   "source": [
    "#List of products\n",
    "products = [\"Sankofa Foods\", \"Jamestown Coffee\", \"Bioko Chocolate\", \"Blue Skies Ice Cream\", \n",
    "            \"Fair Afric Chocolate\", \"Kawa Moka Coffee\", \"Aphro Spirit\", \"Mensado Bissap\", \"Voltic\"]\n",
    "\n",
    "#List of prices\n",
    "prices = [30, 25, 40, 20, 20, 35, 45, 50, 35]\n",
    "\n",
    "#List of purchases\n",
    "last_week = [2, 3, 5, 8, 4, 4, 6, 2, 9]\n",
    "\n",
    "\n",
    "# Q1. Calculate total price average for all products\n",
    "total_average = sum(prices)/len(prices)\n",
    "\n",
    "\n",
    "# Q2. Create a new price list that reduces the old prices by GHC 5\n",
    "new_prices = [price - 5 for price in prices]\n",
    "formatted_new_prices = [f\"GHC {price:.2f}\" for price in new_prices]\n",
    "\n",
    "\n",
    "# Q3. Calculate the total revenue generated from the products\n",
    "revenue_per_product = [prices[x] * last_week[x] for x in range(len(prices))]\n",
    "total_revenue = sum(revenue_per_product)\n",
    "\n",
    "\n",
    "# Q4. Calculate the average daily revenue generated from the products within a week\n",
    "num_days = 7\n",
    "avg_daily_revenue = total_revenue/num_days\n",
    "\n",
    "\n",
    "# Q5. Products less than GHC 30 based on the new prices\n",
    "product_price_info = list(zip(products,new_prices))\n",
    "less_than_30 = [(_, price) for _, price in product_price_info if price < 30]\n",
    "formatted_less_than_30 = [(_, f\"GHC {price:.2f}\") for _, price in less_than_30]\n",
    "\n",
    "#Display the result\n",
    "print(f\"The total price average for all products is: GHC {total_average:.2f}\")\n",
    "print(f\"The new price list is:\")\n",
    "print(formatted_new_prices)\n",
    "print(f\"The total revenue generated from the products is: GHC {total_revenue:.2f}\")\n",
    "print(f\"The average daily revenue generated from the products within a week is: GHC {avg_daily_revenue:.2f}\")\n",
    "print(f\"The products less than GHC 30 based on new price list are:\")\n",
    "print(formatted_less_than_30)"
   ]
  }
 ],
 "metadata": {
  "kernelspec": {
   "display_name": "Python 3 (ipykernel)",
   "language": "python",
   "name": "python3"
  },
  "language_info": {
   "codemirror_mode": {
    "name": "ipython",
    "version": 3
   },
   "file_extension": ".py",
   "mimetype": "text/x-python",
   "name": "python",
   "nbconvert_exporter": "python",
   "pygments_lexer": "ipython3",
   "version": "3.10.6"
  }
 },
 "nbformat": 4,
 "nbformat_minor": 5
}
